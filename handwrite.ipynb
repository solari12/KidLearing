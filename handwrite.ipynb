{
 "cells": [
  {
   "cell_type": "code",
   "id": "initial_id",
   "metadata": {
    "collapsed": true,
    "ExecuteTime": {
     "end_time": "2025-04-24T17:03:25.911419Z",
     "start_time": "2025-04-24T17:03:21.593768Z"
    }
   },
   "source": [
    "import torch\n",
    "import torch.nn as nn\n",
    "import torch.optim as optim\n",
    "from torch.utils.data import DataLoader\n",
    "from torchvision import datasets, transforms\n",
    "import matplotlib.pyplot as plt"
   ],
   "outputs": [],
   "execution_count": 1
  },
  {
   "metadata": {
    "ExecuteTime": {
     "end_time": "2025-04-24T17:03:36.740445Z",
     "start_time": "2025-04-24T17:03:36.676055Z"
    }
   },
   "cell_type": "code",
   "source": [
    "data_path = './data'\n",
    "\n",
    "transform = transforms.Compose([\n",
    "    transforms.Grayscale(num_output_channels=1),\n",
    "    transforms.ToTensor(),\n",
    "    transforms.Normalize((0.5,), (0.5,))\n",
    "])\n",
    "\n",
    "train_dataset = datasets.MNIST(root=data_path, train=True, download=True, transform=transform)\n",
    "test_dataset = datasets.MNIST(root=data_path, train=False, download=True, transform=transform)\n",
    "\n",
    "train_loader = DataLoader(train_dataset, batch_size=64, shuffle=True)\n",
    "test_loader = DataLoader(test_dataset, batch_size=64, shuffle=False)"
   ],
   "id": "212b575486d68551",
   "outputs": [],
   "execution_count": 2
  },
  {
   "metadata": {
    "ExecuteTime": {
     "end_time": "2025-04-24T17:37:25.182066Z",
     "start_time": "2025-04-24T17:37:25.174972Z"
    }
   },
   "cell_type": "code",
   "source": [
    "# 2. Xây dựng mô hình CNN\n",
    "class CNNModel(nn.Module):\n",
    "    def __init__(self):\n",
    "        super(CNNModel, self).__init__()\n",
    "        self.conv1 = nn.Conv2d(1, 32, kernel_size=3, padding=1)\n",
    "        self.pool = nn.MaxPool2d(2, 2)\n",
    "        self.conv2 = nn.Conv2d(32, 64, kernel_size=3, padding=1)\n",
    "        self.fc1 = nn.Linear(64 * 7 * 7, 128)\n",
    "        self.fc2 = nn.Linear(128, 10)  \n",
    "\n",
    "    def forward(self, x):\n",
    "        x = self.pool(torch.relu(self.conv1(x)))\n",
    "        x = self.pool(torch.relu(self.conv2(x)))\n",
    "        x = x.view(-1, 64 * 7 * 7)\n",
    "        x = torch.relu(self.fc1(x))\n",
    "        x = self.fc2(x)\n",
    "        return x\n"
   ],
   "id": "776402caa12c9f20",
   "outputs": [],
   "execution_count": 8
  },
  {
   "metadata": {
    "ExecuteTime": {
     "end_time": "2025-04-24T17:37:27.059465Z",
     "start_time": "2025-04-24T17:37:27.046407Z"
    }
   },
   "cell_type": "code",
   "source": [
    "# 3. Khởi tạo mô hình, loss function và optimizer\n",
    "model = CNNModel()\n",
    "criterion = nn.CrossEntropyLoss()\n",
    "optimizer = optim.Adam(model.parameters(), lr=0.001)\n"
   ],
   "id": "33a63711cba0bbd7",
   "outputs": [],
   "execution_count": 9
  },
  {
   "metadata": {
    "ExecuteTime": {
     "end_time": "2025-04-24T17:43:44.715422Z",
     "start_time": "2025-04-24T17:37:28.984550Z"
    }
   },
   "cell_type": "code",
   "source": [
    "# 4. Huấn luyện mô hình\n",
    "epochs = 10  # Bạn có thể thay đổi số lượng epoch\n",
    "\n",
    "train_losses = []\n",
    "train_accuracies = []\n",
    "test_losses = []\n",
    "test_accuracies = []\n",
    "\n",
    "for epoch in range(epochs):\n",
    "    model.train()\n",
    "    running_loss = 0.0\n",
    "    correct = 0\n",
    "    total = 0\n",
    "\n",
    "    # Huấn luyện trên dữ liệu train\n",
    "    for inputs, labels in train_loader:\n",
    "        optimizer.zero_grad()  # Đặt gradient về 0\n",
    "        outputs = model(inputs)\n",
    "        loss = criterion(outputs, labels)\n",
    "        loss.backward()  # Tính toán gradient\n",
    "        optimizer.step()  # Cập nhật weights\n",
    "\n",
    "        running_loss += loss.item()\n",
    "        _, predicted = torch.max(outputs, 1)\n",
    "        total += labels.size(0)\n",
    "        correct += (predicted == labels).sum().item()\n",
    "\n",
    "    # Tính loss và accuracy\n",
    "    train_loss = running_loss / len(train_loader)\n",
    "    train_accuracy = 100 * correct / total\n",
    "\n",
    "    train_losses.append(train_loss)\n",
    "    train_accuracies.append(train_accuracy)\n",
    "\n",
    "    # Kiểm tra trên dữ liệu test\n",
    "    model.eval()\n",
    "    correct = 0\n",
    "    total = 0\n",
    "    running_loss = 0.0\n",
    "\n",
    "    with torch.no_grad():  # Không tính gradient khi test\n",
    "        for inputs, labels in test_loader:\n",
    "            outputs = model(inputs)\n",
    "            loss = criterion(outputs, labels)\n",
    "            running_loss += loss.item()\n",
    "\n",
    "            _, predicted = torch.max(outputs, 1)\n",
    "            total += labels.size(0)\n",
    "            correct += (predicted == labels).sum().item()\n",
    "\n",
    "    test_loss = running_loss / len(test_loader)\n",
    "    test_accuracy = 100 * correct / total\n",
    "\n",
    "    test_losses.append(test_loss)\n",
    "    test_accuracies.append(test_accuracy)\n",
    "\n",
    "    # In kết quả sau mỗi epoch\n",
    "    print(f'Epoch {epoch + 1}/{epochs}')\n",
    "    print(f'Train Loss: {train_loss:.4f}, Train Accuracy: {train_accuracy:.2f}%')\n",
    "    print(f'Test Loss: {test_loss:.4f}, Test Accuracy: {test_accuracy:.2f}%')"
   ],
   "id": "9a588b47b6d87f00",
   "outputs": [
    {
     "name": "stdout",
     "output_type": "stream",
     "text": [
      "Epoch 1/10\n",
      "Train Loss: 0.1452, Train Accuracy: 95.57%\n",
      "Test Loss: 0.0362, Test Accuracy: 98.76%\n",
      "Epoch 2/10\n",
      "Train Loss: 0.0443, Train Accuracy: 98.66%\n",
      "Test Loss: 0.0429, Test Accuracy: 98.67%\n",
      "Epoch 3/10\n",
      "Train Loss: 0.0298, Train Accuracy: 99.07%\n",
      "Test Loss: 0.0338, Test Accuracy: 98.88%\n",
      "Epoch 4/10\n",
      "Train Loss: 0.0228, Train Accuracy: 99.23%\n",
      "Test Loss: 0.0312, Test Accuracy: 99.02%\n",
      "Epoch 5/10\n",
      "Train Loss: 0.0184, Train Accuracy: 99.40%\n",
      "Test Loss: 0.0243, Test Accuracy: 99.20%\n",
      "Epoch 6/10\n",
      "Train Loss: 0.0119, Train Accuracy: 99.59%\n",
      "Test Loss: 0.0340, Test Accuracy: 98.94%\n",
      "Epoch 7/10\n",
      "Train Loss: 0.0127, Train Accuracy: 99.57%\n",
      "Test Loss: 0.0416, Test Accuracy: 99.00%\n",
      "Epoch 8/10\n",
      "Train Loss: 0.0112, Train Accuracy: 99.64%\n",
      "Test Loss: 0.0276, Test Accuracy: 99.19%\n",
      "Epoch 9/10\n",
      "Train Loss: 0.0073, Train Accuracy: 99.77%\n",
      "Test Loss: 0.0352, Test Accuracy: 99.04%\n",
      "Epoch 10/10\n",
      "Train Loss: 0.0075, Train Accuracy: 99.75%\n",
      "Test Loss: 0.0293, Test Accuracy: 99.17%\n"
     ]
    }
   ],
   "execution_count": 10
  },
  {
   "metadata": {},
   "cell_type": "code",
   "outputs": [],
   "execution_count": null,
   "source": "",
   "id": "9c3ae5b9283cf9fd"
  },
  {
   "metadata": {
    "ExecuteTime": {
     "end_time": "2025-04-24T17:46:57.667033Z",
     "start_time": "2025-04-24T17:46:57.658010Z"
    }
   },
   "cell_type": "code",
   "source": [
    "# 5. Lưu mô hình sau khi huấn luyện\n",
    "torch.save(model.state_dict(), 'handwriting_model.pth')"
   ],
   "id": "5136e26aaa21d8a7",
   "outputs": [],
   "execution_count": 11
  },
  {
   "metadata": {
    "ExecuteTime": {
     "end_time": "2025-04-24T17:49:47.012732Z",
     "start_time": "2025-04-24T17:49:46.500455Z"
    }
   },
   "cell_type": "code",
   "source": [
    "# 6. Vẽ đồ thị loss và accuracy\n",
    "epochs_range = range(epochs)\n",
    "plt.figure(figsize=(12, 6))\n",
    "\n",
    "# Loss\n",
    "plt.subplot(1, 2, 1)\n",
    "plt.plot(epochs_range, train_losses, label='Train Loss')\n",
    "plt.plot(epochs_range, test_losses, label='Test Loss')\n",
    "plt.title('Loss')\n",
    "plt.xlabel('Epoch')\n",
    "plt.ylabel('Loss')\n",
    "plt.legend()\n",
    "\n",
    "# Accuracy\n",
    "plt.subplot(1, 2, 2)\n",
    "plt.plot(epochs_range, train_accuracies, label='Train Accuracy')\n",
    "plt.plot(epochs_range, test_accuracies, label='Test Accuracy')\n",
    "plt.title('Accuracy')\n",
    "plt.xlabel('Epoch')\n",
    "plt.ylabel('Accuracy')\n",
    "plt.legend()\n",
    "\n",
    "plt.show()"
   ],
   "id": "d35cc6789bacaa6e",
   "outputs": [
    {
     "data": {
      "text/plain": [
       "<Figure size 1200x600 with 2 Axes>"
      ],
      "image/png": "[encoded data removed]"
     },
     "metadata": {},
     "output_type": "display_data"
    }
   ],
   "execution_count": 13
  },
  {
   "metadata": {
    "ExecuteTime": {
     "end_time": "2025-04-25T06:37:58.455537Z",
     "start_time": "2025-04-25T06:37:43.863395Z"
    }
   },
   "cell_type": "code",
   "source": [
    "from PIL import Image\n",
    "import torch\n",
    "import torchvision.transforms as transforms\n",
    "\n",
    "# Chuyển ảnh RGB sang Grayscale\n",
    "def preprocess_image(image_path):\n",
    "    try:\n",
    "        # Đảm bảo đường dẫn ảnh chính xác\n",
    "        image = Image.open(image_path).convert('L')  # Chuyển sang grayscale (1 channel)\n",
    "    except Exception as e:\n",
    "        print(f\"Lỗi khi mở ảnh: {e}\")\n",
    "        return None\n",
    "\n",
    "    transform = transforms.Compose([\n",
    "    transforms.Resize((28, 28)),  # Resize ảnh về kích thước 28x28 (như MNIST)\n",
    "    transforms.Grayscale(num_output_channels=1),  # Đảm bảo ảnh là grayscale\n",
    "    transforms.ToTensor(),\n",
    "    transforms.Normalize((0.5,), (0.5,)),\n",
    "    transforms.Lambda(lambda x: 1 - x)  # Đảo ngược màu sắc: trắng thành đen và ngược lại\n",
    "])\n",
    "    image = transform(image).unsqueeze(0)  # Thêm batch dimension\n",
    "    return image\n",
    "\n",
    "# Hàm dự đoán một ảnh\n",
    "def predict(image_path):\n",
    "    image = preprocess_image(image_path)\n",
    "    \n",
    "    if image is None:\n",
    "        return \"Không thể mở ảnh\"\n",
    "    \n",
    "    # Đảm bảo mô hình đã được tải\n",
    "    model.eval()\n",
    "    \n",
    "    with torch.no_grad():\n",
    "        output = model(image)\n",
    "        _, predicted = torch.max(output, 1)\n",
    "    \n",
    "    return predicted.item()\n",
    "\n",
    "# Ví dụ sử dụng\n",
    "image_path = r'debug_output.png'  # Đổi thành đường dẫn ảnh bạn muốn dự đoán\n",
    "prediction = predict(image_path)\n",
    "print(f\"Dự đoán: {prediction}\")\n"
   ],
   "id": "9d270395e4d5d224",
   "outputs": [
    {
     "ename": "NameError",
     "evalue": "name 'model' is not defined",
     "output_type": "error",
     "traceback": [
      "\u001B[31m---------------------------------------------------------------------------\u001B[39m",
      "\u001B[31mNameError\u001B[39m                                 Traceback (most recent call last)",
      "\u001B[36mCell\u001B[39m\u001B[36m \u001B[39m\u001B[32mIn[1]\u001B[39m\u001B[32m, line 42\u001B[39m\n\u001B[32m     40\u001B[39m \u001B[38;5;66;03m# Ví dụ sử dụng\u001B[39;00m\n\u001B[32m     41\u001B[39m image_path = \u001B[33mr\u001B[39m\u001B[33m'\u001B[39m\u001B[33mdebug_output.png\u001B[39m\u001B[33m'\u001B[39m  \u001B[38;5;66;03m# Đổi thành đường dẫn ảnh bạn muốn dự đoán\u001B[39;00m\n\u001B[32m---> \u001B[39m\u001B[32m42\u001B[39m prediction = \u001B[43mpredict\u001B[49m\u001B[43m(\u001B[49m\u001B[43mimage_path\u001B[49m\u001B[43m)\u001B[49m\n\u001B[32m     43\u001B[39m \u001B[38;5;28mprint\u001B[39m(\u001B[33mf\u001B[39m\u001B[33m\"\u001B[39m\u001B[33mDự đoán: \u001B[39m\u001B[38;5;132;01m{\u001B[39;00mprediction\u001B[38;5;132;01m}\u001B[39;00m\u001B[33m\"\u001B[39m)\n",
      "\u001B[36mCell\u001B[39m\u001B[36m \u001B[39m\u001B[32mIn[1]\u001B[39m\u001B[32m, line 32\u001B[39m, in \u001B[36mpredict\u001B[39m\u001B[34m(image_path)\u001B[39m\n\u001B[32m     29\u001B[39m     \u001B[38;5;28;01mreturn\u001B[39;00m \u001B[33m\"\u001B[39m\u001B[33mKhông thể mở ảnh\u001B[39m\u001B[33m\"\u001B[39m\n\u001B[32m     31\u001B[39m \u001B[38;5;66;03m# Đảm bảo mô hình đã được tải\u001B[39;00m\n\u001B[32m---> \u001B[39m\u001B[32m32\u001B[39m \u001B[43mmodel\u001B[49m.eval()\n\u001B[32m     34\u001B[39m \u001B[38;5;28;01mwith\u001B[39;00m torch.no_grad():\n\u001B[32m     35\u001B[39m     output = model(image)\n",
      "\u001B[31mNameError\u001B[39m: name 'model' is not defined"
     ]
    }
   ],
   "execution_count": 1
  }
 ],
 "metadata": {
  "kernelspec": {
   "display_name": "Python 3",
   "language": "python",
   "name": "python3"
  },
  "language_info": {
   "codemirror_mode": {
    "name": "ipython",
    "version": 2
   },
   "file_extension": ".py",
   "mimetype": "text/x-python",
   "name": "python",
   "nbconvert_exporter": "python",
   "pygments_lexer": "ipython2",
   "version": "2.7.6"
  }
 },
 "nbformat": 4,
 "nbformat_minor": 5
}
